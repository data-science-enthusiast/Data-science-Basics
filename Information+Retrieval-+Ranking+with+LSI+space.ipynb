{
 "cells": [
  {
   "cell_type": "code",
   "execution_count": 10,
   "metadata": {},
   "outputs": [
    {
     "name": "stdout",
     "output_type": "stream",
     "text": [
      "Singular Value Decomposition:\n",
      " s:\n",
      " [ 1.221409    0.49986004]\n",
      "V:\n",
      " [[-0.55927708 -0.59654757 -0.57562153]\n",
      " [ 0.71788087 -0.00128553 -0.69616478]\n",
      " [ 0.41455543 -0.80257669  0.42896905]]\n",
      "U:\n",
      " [[-0.72678819 -0.68686165]\n",
      " [-0.68686165  0.72678819]]\n"
     ]
    }
   ],
   "source": [
    "'''Document ranking\n",
    "\n",
    "         Document1   Document2  Document3\n",
    "Keyword1  0.25       0.53       0.75\n",
    "Keyword2  0.73       0.50       0.23\n",
    "\n",
    "'''\n",
    "import numpy as np\n",
    "A = np.matrix([[0.25, 0.53, 0.75], [0.73, 0.50, 0.23]])\n",
    "U, s, V = np.linalg.svd(A)\n",
    "\n",
    "print(\"Singular Value Decomposition:\\n s:\\n\",s)\n",
    "print(\"V:\\n\",V)\n",
    "print(\"U:\\n\",U)"
   ]
  },
  {
   "cell_type": "code",
   "execution_count": 11,
   "metadata": {},
   "outputs": [
    {
     "name": "stdout",
     "output_type": "stream",
     "text": [
      "Reconstructed F ignoring smaller of the two singular values:\n",
      " [[ 0.49647341  0.52955863  0.51098248]\n",
      " [ 0.46919935  0.50046702  0.48291136]]\n"
     ]
    }
   ],
   "source": [
    "k = 1  #ignoring smaller values of the two singular values \n",
    "new_A = U[:, :k] * np.diag(s[:k]) * V[:k, :]\n",
    "print(\"Reconstructed F ignoring smaller of the two singular values:\\n\",new_A)"
   ]
  },
  {
   "cell_type": "code",
   "execution_count": 12,
   "metadata": {},
   "outputs": [
    {
     "name": "stdout",
     "output_type": "stream",
     "text": [
      "Query transpose:\n",
      " [[1 0]]\n",
      "new u:\n",
      " [[-0.72678819]\n",
      " [-0.68686165]]\n",
      "new s:\n",
      " [[ 1.221409]]\n",
      "new v:'\n",
      " [[-0.55927708 -0.59654757 -0.57562153]]\n"
     ]
    }
   ],
   "source": [
    "new_u=U[:, :k]\n",
    "new_s=np.diag(s[:k])\n",
    "new_vt=V[:k, :]\n",
    "Q = np.matrix([[1],[0]])\n",
    "print(\"Query transpose:\\n\",Q.T)\n",
    "print(\"new u:\\n\",new_u)\n",
    "print(\"new s:\\n\",new_s)\n",
    "print(\"new v:'\\n\",new_vt)"
   ]
  },
  {
   "cell_type": "code",
   "execution_count": 13,
   "metadata": {},
   "outputs": [
    {
     "name": "stdout",
     "output_type": "stream",
     "text": [
      "low Dimensional Query Represenation:\n",
      " [[-0.5950408]]\n",
      "low Dimensional Document Represenation:\n",
      " [[-0.55927708 -0.59654757 -0.57562153]]\n"
     ]
    }
   ],
   "source": [
    "#LSI space representation\n",
    "lowDimensionalQueryVector = Q.T * new_u * np.linalg.inv(new_s)\n",
    "print(\"low Dimensional Query Represenation:\\n\",lowDimensionalQueryVector)\n",
    "print(\"low Dimensional Document Represenation:\\n\",new_vt)"
   ]
  },
  {
   "cell_type": "code",
   "execution_count": 14,
   "metadata": {},
   "outputs": [
    {
     "name": "stdout",
     "output_type": "stream",
     "text": [
      "Cosine Similarity:\n",
      "[[ 1.  1.  1.]]\n"
     ]
    }
   ],
   "source": [
    "from sklearn.metrics.pairwise import cosine_similarity\n",
    "cos_similarity=cosine_similarity(lowDimensionalQueryVector, new_vt.T)\n",
    "print(\"Cosine Similarity:\")\n",
    "print(cos_similarity)   #ranks of all documents are same for k=1"
   ]
  }
 ],
 "metadata": {
  "kernelspec": {
   "display_name": "Python 3",
   "language": "python",
   "name": "python3"
  },
  "language_info": {
   "codemirror_mode": {
    "name": "ipython",
    "version": 3
   },
   "file_extension": ".py",
   "mimetype": "text/x-python",
   "name": "python",
   "nbconvert_exporter": "python",
   "pygments_lexer": "ipython3",
   "version": "3.6.2"
  }
 },
 "nbformat": 4,
 "nbformat_minor": 2
}
