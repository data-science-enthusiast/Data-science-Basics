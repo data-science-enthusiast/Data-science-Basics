{
 "cells": [
  {
   "cell_type": "code",
   "execution_count": 31,
   "metadata": {
    "scrolled": true
   },
   "outputs": [
    {
     "name": "stdout",
     "output_type": "stream",
     "text": [
      "Eigenvectors \n",
      "[[ -3.42730362e-01  -6.01629269e-01   6.89497262e-01   2.04032735e-01\n",
      "   -5.95171485e-02]\n",
      " [ -4.52506679e-01   4.06414487e-01   1.74861175e-01  -3.53570600e-01\n",
      "   -6.88822452e-01]\n",
      " [ -3.96694774e-01  -5.41665002e-01  -6.98013696e-01   2.29371575e-02\n",
      "   -2.47957755e-01]\n",
      " [ -5.50056518e-01   7.78168650e-02  -1.23580670e-04  -5.00385724e-01\n",
      "    6.64075655e-01]\n",
      " [ -4.66738351e-01   4.16428924e-01  -8.24254824e-02   7.63181818e-01\n",
      "    1.39648901e-01]]\n",
      "\n",
      "Eigenvalues \n",
      "[ 3.13452392  1.95999283  0.01664223  0.10901897  0.23436751]\n"
     ]
    }
   ],
   "source": [
    "'''\n",
    "Reducing   the   five-dimensional   records   to   two   dimensions  by   means of   the   principal   component   analysis.\n",
    " \n",
    " Steps   for   PCA:\n",
    "1. Standardization   the   data   X.\n",
    "2. Computing   the   Eigenvectors   and   Eigenvalues   from   the   covariance   matrix.\n",
    "3. Sorting eigenvalues in descending order and choosing the k eigenvectors that correspond to\n",
    "    the k largest   eigenvalues   where k   will   be   the   number   of   dimensions   of   the   new   feature   space.\n",
    "4. building   the   projection   matrix W from   the   selected k eigenvectors.\n",
    "5. Transforming   the   original   dataset X using W to   obtain   a k-dimensional   feature   space. '''\n",
    "import pandas as pd\n",
    "import numpy as np\n",
    "import matplotlib.pyplot as plt\n",
    "from sklearn.decomposition import PCA\n",
    "from sklearn.preprocessing import StandardScaler\n",
    "\n",
    "data = pd.read_csv(\n",
    "    filepath_or_buffer='data_que3.csv',\n",
    "    header=None,\n",
    "    sep=',')\n",
    "#data.columns = ['f1', 'f2', 'f3', 'f4', 'f5']\n",
    "data.dropna(how=\"all\", inplace=True)\n",
    "data.tail()\n",
    "X = data.iloc[:, 0:5].values\n",
    "\n",
    "# Normalization\n",
    "X_std = StandardScaler().fit_transform(X)\n",
    "orig=X_std\n",
    "cov_mat = np.cov(X_std.T)\n",
    "\n",
    "# Computing Eigenvectors and Eigenvalues\n",
    "eig_vals, eig_vecs = np.linalg.eig(cov_mat)\n",
    "print('Eigenvectors \\n%s' % eig_vecs)\n",
    "print('\\nEigenvalues \\n%s' % eig_vals)\n",
    "\n",
    "# Make a list of (eigenvalue, eigenvector) tuples\n",
    "eig_pairs = [(np.abs(eig_vals[i]), eig_vecs[:, i]) for i in range(len(eig_vals))]\n",
    "\n",
    "# Sort the (eigenvalue, eigenvector) tuples from high to low\n",
    "eig_pairs.sort()\n",
    "eig_pairs.reverse()"
   ]
  },
  {
   "cell_type": "code",
   "execution_count": 32,
   "metadata": {},
   "outputs": [
    {
     "data": {
      "image/png": "[encoded data removed]",
      "text/plain": [
       "<matplotlib.figure.Figure at 0x109a715c0>"
      ]
     },
     "metadata": {},
     "output_type": "display_data"
    }
   ],
   "source": [
    "# Visualising Variation\n",
    "tot = sum(eig_vals)\n",
    "varince = [(j / tot) * 100 for j in sorted(eig_vals, reverse=True)]\n",
    "with plt.style.context('dark_background'):\n",
    "    plt.figure(figsize=(6, 4))\n",
    "    plt.bar(range(5), varince, alpha=0.5, align='center', label='individual variance')\n",
    "    plt.ylabel('variance ratio')\n",
    "    plt.xlabel('Principal components')\n",
    "    plt.legend(loc='best')\n",
    "    plt.tight_layout()\n",
    "plt.show()"
   ]
  },
  {
   "cell_type": "code",
   "execution_count": 33,
   "metadata": {},
   "outputs": [
    {
     "name": "stdout",
     "output_type": "stream",
     "text": [
      "New Representation:\n",
      "[[-1.71676152  0.99766631]\n",
      " [ 2.3573254   1.06232346]\n",
      " [ 2.6061636  -0.12567527]\n",
      " [-0.81377078  1.80752707]\n",
      " [-0.58956278  1.62649237]\n",
      " [ 1.22521682 -1.61029634]\n",
      " [ 1.81164729  1.64559242]\n",
      " [-0.10178181 -1.19682324]\n",
      " [-1.38906942 -0.79284585]\n",
      " [-3.32776225  0.08257629]\n",
      " [ 0.4019692  -1.86207069]\n",
      " [-0.46361373 -1.63446653]]\n"
     ]
    },
    {
     "data": {
      "image/png": "[encoded data removed]",
      "text/plain": [
       "<matplotlib.figure.Figure at 0x109b72a90>"
      ]
     },
     "metadata": {},
     "output_type": "display_data"
    }
   ],
   "source": [
    "# Dimension  Reduction for k=2\n",
    "matrix_w = np.hstack((eig_pairs[0][1].reshape(5, 1),\n",
    "                      eig_pairs[1][1].reshape(5, 1)))\n",
    "# New Space\n",
    "Y = X_std.dot(matrix_w)\n",
    "print('New Representation:\\n%s' % Y)\n",
    "\n",
    "y1, y2 = Y.T\n",
    "plt.scatter(y1, y2)\n",
    "plt.title(\"Data using first two Eigen Vectors.\")\n",
    "plt.xlabel('PCA variable 1')\n",
    "plt.ylabel('PCA Variable 2')\n",
    "plt.show()"
   ]
  },
  {
   "cell_type": "code",
   "execution_count": 35,
   "metadata": {},
   "outputs": [
    {
     "name": "stdout",
     "output_type": "stream",
     "text": [
      "\n",
      "Original normalised Data:\n",
      "[[-0.16446318  0.79412107  0.14024818  1.35563276  1.31223972]\n",
      " [-1.5914975  -0.31667405 -1.45858105 -1.00725786 -1.14820976]\n",
      " [-0.86279912 -1.54439497 -1.12198543 -1.00725786 -1.31223972]\n",
      " [-0.74134939  1.26182428 -0.53294308  0.17418745  1.31223972]\n",
      " [-0.68062453  0.79412107 -0.61709198  0.17418745  1.31223972]\n",
      " [ 0.59459763 -1.83670948  0.22439709 -0.55285582 -0.82014983]\n",
      " [-1.53077263 -0.02435954 -1.62687887 -1.00725786 -0.16402997]\n",
      " [ 0.86785953  0.03410336  0.81343943 -0.55285582 -0.4920899 ]\n",
      " [ 1.11075898  0.61873237  0.89758834  0.53770908  0.16402997]\n",
      " [ 1.01967169  1.32028718  1.06588616  2.44619766  1.31223972]\n",
      " [ 1.01967169 -1.07669176  0.81343943 -0.371095   -0.82014983]\n",
      " [ 0.95894682 -0.02435954  1.40248178 -0.18933418 -0.65611986]]\n",
      "\n",
      "Reconstructed Data from PCA components:\n",
      "[[-0.01183895  1.1823121   0.1406294   1.02195113  1.21673555]\n",
      " [-1.44705187 -0.63496184 -1.51056211 -1.21399552 -0.65787195]\n",
      " [-0.81760147 -1.23038269 -0.96577759 -1.44331693 -1.26873132]\n",
      " [-0.80855723  1.1028419  -0.65625554  0.58827601  1.13252459]\n",
      " [-0.77648435  0.92781116 -0.64713752  0.45086139  0.95249003]\n",
      " [ 0.54888241 -1.20886655  0.38620406 -0.79924671 -1.24242965]\n",
      " [-1.6109431  -0.1509899  -1.61003083 -0.86845355 -0.16029298]\n",
      " [ 0.75492761 -0.44034935  0.68865357 -0.03714729 -0.45088634]\n",
      " [ 0.95307554  0.30633915  0.98049343  0.70236991  0.31816803]\n",
      " [ 1.09084485  1.53939485  1.27537721  1.83688314  1.58758142]\n",
      " [ 0.98250918 -0.93866625  0.84915945 -0.36600628 -0.96303454]\n",
      " [ 1.1422374  -0.45448257  1.06924646  0.12782469 -0.46425283]]\n",
      "\n",
      "Reconstruction Error: 0.0660052625835\n"
     ]
    }
   ],
   "source": [
    "#Used Sklearn for Reconstruction\n",
    "import numpy as np\n",
    "from sklearn.decomposition import PCA\n",
    "from sklearn.metrics import mean_squared_error\n",
    "pca = PCA(n_components=2)\n",
    "pca.fit(X_std)\n",
    "data_reduced = np.dot(X_std, pca.components_.T) # transform\n",
    "data_original = np.dot(data_reduced, pca.components_) # inverse_transform\n",
    "print('\\nOriginal normalised Data:\\n%s'% X_std)\n",
    "print('\\nReconstructed Data from PCA components:\\n%s'% data_original)\n",
    "m_error=mean_squared_error(X_std,data_original)\n",
    "print(\"\\nReconstruction Error:\",m_error)"
   ]
  }
 ],
 "metadata": {
  "kernelspec": {
   "display_name": "Python 3",
   "language": "python",
   "name": "python3"
  },
  "language_info": {
   "codemirror_mode": {
    "name": "ipython",
    "version": 3
   },
   "file_extension": ".py",
   "mimetype": "text/x-python",
   "name": "python",
   "nbconvert_exporter": "python",
   "pygments_lexer": "ipython3",
   "version": "3.6.2"
  }
 },
 "nbformat": 4,
 "nbformat_minor": 2
}
